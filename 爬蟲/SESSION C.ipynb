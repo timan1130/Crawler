{
 "cells": [
  {
   "cell_type": "code",
   "execution_count": 7,
   "metadata": {},
   "outputs": [
    {
     "name": "stdout",
     "output_type": "stream",
     "text": [
      "圖片 tag:\n",
      "<bound method Tag.prettify of <img alt=\"logo\" class=\"img-responsive\" height=\"1\" src=\"https://gushi.tw/wp-content/uploads/2016/08/logo.png\" width=\"1\"/>>\n"
     ]
    },
    {
     "data": {
      "text/plain": [
       "('logo.png', <http.client.HTTPMessage at 0x1cf6ae79ba8>)"
      ]
     },
     "execution_count": 7,
     "metadata": {},
     "output_type": "execute_result"
    }
   ],
   "source": [
    "import requests\n",
    "from bs4 import BeautifulSoup\n",
    "from urllib.request import build_opener\n",
    "from urllib.request import install_opener\n",
    "from urllib.request import urlretrieve\n",
    "\n",
    "respone = requests.get(\"https://gushi.tw/hu-shih-memorial-hall/\")\n",
    "soup = BeautifulSoup(respone.text, 'lxml')\n",
    "\n",
    "image = soup.find_all('img')\n",
    "\n",
    "print(u'圖片 tag:')\n",
    "print(image[0].prettify)\n",
    "\n",
    "opener = build_opener()\n",
    "opener.addheaders = [('User-Agent', 'Mozilla/5.0 (Windows NT 10.0; Win64; x64) AppleWebKit/537.36 (KHTML, like Gecko)  Chrome/62.0.3202.94 Safari/537.36')] \n",
    "\n",
    "install_opener(opener)\n",
    "                      \n",
    "urlretrieve(image[0]['src'], 'logo.png')"
   ]
  },
  {
   "cell_type": "code",
   "execution_count": 1,
   "metadata": {},
   "outputs": [
    {
     "name": "stdout",
     "output_type": "stream",
     "text": [
      "url: http://imgur.com/rqCqA.png\n",
      "get image format: JPEG\n",
      "split url by \"/\": ['http:', '', 'imgur.com', 'rqCqA.png']\n",
      "filename:  rqCqA.png\n",
      "split filename by \".\": ['rqCqA', 'png']\n",
      "filename: rqCqA\n",
      "concate filename: rqCqA.jpeg\n"
     ]
    },
    {
     "data": {
      "text/plain": [
       "('rqCqA.jpeg', <http.client.HTTPMessage at 0x19883286b38>)"
      ]
     },
     "execution_count": 1,
     "metadata": {},
     "output_type": "execute_result"
    }
   ],
   "source": [
    "import requests\n",
    "from PIL import Image\n",
    "from urllib.request import urlretrieve\n",
    "\n",
    "url = 'http://imgur.com/rqCqA.png'\n",
    "response = requests.get(url, stream=True)\n",
    "print('url:', url)\n",
    "\n",
    "# 根據 Image.open 所需格式讀取圖片, 並取得圖片副檔名\n",
    "image = Image.open(response.raw)\n",
    "print('get image format:', image.format)\n",
    "\n",
    "# 根據 '/' 將網址分段\n",
    "split_url = url.split('/')\n",
    "print('split url by \"/\":', split_url)\n",
    "\n",
    "# 從分段的網址中取得原始檔案名稱\n",
    "orig_filename = split_url[-1]\n",
    "print('filename: ', orig_filename)\n",
    "\n",
    "# 從原始檔案名稱中根據 '.' 分成檔名跟副檔名\n",
    "split_filename = orig_filename.split('.')\n",
    "print('split filename by \".\":', split_filename)\n",
    "\n",
    "# 取得原始檔名\n",
    "filename = split_filename[0]\n",
    "print('filename:', filename)\n",
    "\n",
    "# 組合原始檔名與正確的副檔名\n",
    "download_filename = '{}.{}'.format(filename, image.format.lower())\n",
    "print('concate filename:', download_filename)\n",
    "\n",
    "# 下載圖片\n",
    "urlretrieve(url, download_filename)"
   ]
  },
  {
   "cell_type": "code",
   "execution_count": null,
   "metadata": {
    "collapsed": true
   },
   "outputs": [],
   "source": [
    "import re\n",
    "import requests\n",
    "\n",
    "from bs4 import BeautifulSoup\n",
    "from urllib.parse import urlparse\n",
    "from urllib.parse import urljoin\n",
    "\n"
   ]
  }
 ],
 "metadata": {
  "kernelspec": {
   "display_name": "Python 3",
   "language": "python",
   "name": "python3"
  },
  "language_info": {
   "codemirror_mode": {
    "name": "ipython",
    "version": 3
   },
   "file_extension": ".py",
   "mimetype": "text/x-python",
   "name": "python",
   "nbconvert_exporter": "python",
   "pygments_lexer": "ipython3",
   "version": "3.6.1"
  }
 },
 "nbformat": 4,
 "nbformat_minor": 2
}

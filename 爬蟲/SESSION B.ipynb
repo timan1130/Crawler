{
 "cells": [
  {
   "cell_type": "code",
   "execution_count": 3,
   "metadata": {
    "collapsed": true
   },
   "outputs": [],
   "source": [
    "# Session B 會用到的套件 (不包含資料分析部分)\n",
    "import requests\n",
    "from bs4 import BeautifulSoup\n",
    "import re\n",
    "import pandas as pd"
   ]
  },
  {
   "cell_type": "code",
   "execution_count": 4,
   "metadata": {
    "collapsed": true
   },
   "outputs": [],
   "source": [
    "# 萬年起手式\n",
    "import requests\n",
    "from bs4 import BeautifulSoup\n",
    "import re\n",
    "\n",
    "response = requests.get(\"https://jimmy15923.github.io/example_page\")\n",
    "soup = BeautifulSoup(response.text, 'lxml')"
   ]
  },
  {
   "cell_type": "code",
   "execution_count": 6,
   "metadata": {},
   "outputs": [
    {
     "data": {
      "text/plain": [
       "[<tr>\n",
       " <th>標頭 1 (table-header)</th>\n",
       " <th>標頭 2 (table-header)</th>\n",
       " <th>標頭 3 (table-header)</th>\n",
       " <th>標頭 4 (table-header)</th>\n",
       " </tr>, <tr>\n",
       " <td> 列2 欄1 </td>\n",
       " <td class=\"zzz\"> 列2 欄2 (我的屬性 class=\"zzz\") </td>\n",
       " <td>\n",
       " <a href=\"http://www.yahoo.com.tw\">列2 欄3 (我是 a 標籤，屬性 href=網址) </a>\n",
       " </td>\n",
       " <td>\n",
       " <a href=\"http://foundation.datasci.tw/\">列2 欄4 (資料協會) </a>\n",
       " </td>\n",
       " </tr>, <td> 列2 欄1 </td>, <td class=\"zzz\"> 列2 欄2 (我的屬性 class=\"zzz\") </td>, <td>\n",
       " <a href=\"http://www.yahoo.com.tw\">列2 欄3 (我是 a 標籤，屬性 href=網址) </a>\n",
       " </td>, <td>\n",
       " <a href=\"http://foundation.datasci.tw/\">列2 欄4 (資料協會) </a>\n",
       " </td>, <tr>\n",
       " <td value=\"5566\">列3 欄1 </td>\n",
       " <td>列3 欄2\n",
       " \t\t\t\t<ol>\n",
       " <li class=\"zz\">我是 li 標籤 (列表)，屬性 class=\"zz\" </li>\n",
       " <li> 第二個 li 標籤 </li>\n",
       " </ol>\n",
       " </td>\n",
       " <td>\n",
       " <a href=\"http://foundation.datasci.tw/python-crawling-170813/\" id=\"hyperlink\"> 列3 欄3 (資料協會-python 爬蟲實戰)</a>\n",
       " </td>\n",
       " <td class=\"zzzz\">列3 欄4 (我的屬性 class=\"zzzz\")</td>\n",
       " </tr>, <td value=\"5566\">列3 欄1 </td>, <td>列3 欄2\n",
       " \t\t\t\t<ol>\n",
       " <li class=\"zz\">我是 li 標籤 (列表)，屬性 class=\"zz\" </li>\n",
       " <li> 第二個 li 標籤 </li>\n",
       " </ol>\n",
       " </td>, <td>\n",
       " <a href=\"http://foundation.datasci.tw/python-crawling-170813/\" id=\"hyperlink\"> 列3 欄3 (資料協會-python 爬蟲實戰)</a>\n",
       " </td>, <td class=\"zzzz\">列3 欄4 (我的屬性 class=\"zzzz\")</td>]"
      ]
     },
     "execution_count": 6,
     "metadata": {},
     "output_type": "execute_result"
    }
   ],
   "source": [
    "soup.find_all(re.compile(\"t(d|r)\"))"
   ]
  },
  {
   "cell_type": "code",
   "execution_count": 8,
   "metadata": {},
   "outputs": [
    {
     "data": {
      "text/plain": [
       "[<div class=\"zzz\" id=\"id1\">我是有著屬性 class=\"zzz\" 的標籤內容</div>,\n",
       " <td class=\"zzz\"> 列2 欄2 (我的屬性 class=\"zzz\") </td>,\n",
       " <li class=\"zz\">我是 li 標籤 (列表)，屬性 class=\"zz\" </li>,\n",
       " <td class=\"zzzz\">列3 欄4 (我的屬性 class=\"zzzz\")</td>]"
      ]
     },
     "execution_count": 8,
     "metadata": {},
     "output_type": "execute_result"
    }
   ],
   "source": [
    "soup.find_all(\"\", {\"class\":re.compile(\"z+\")})"
   ]
  },
  {
   "cell_type": "code",
   "execution_count": 15,
   "metadata": {},
   "outputs": [
    {
     "name": "stdout",
     "output_type": "stream",
     "text": [
      "['網頁名稱-python crawler', 'python_crawler', ' 列3 欄3 (資料協會-python 爬蟲實戰)', 'python_crawler']\n"
     ]
    }
   ],
   "source": [
    "print(soup.find_all(\"\", text = re.compile(\"python\")))"
   ]
  },
  {
   "cell_type": "code",
   "execution_count": 16,
   "metadata": {
    "collapsed": true
   },
   "outputs": [],
   "source": [
    "import requests\n",
    "from bs4 import BeautifulSoup\n",
    "import re"
   ]
  },
  {
   "cell_type": "code",
   "execution_count": 18,
   "metadata": {},
   "outputs": [
    {
     "name": "stdout",
     "output_type": "stream",
     "text": [
      "[<a href=\"http://foundation.datasci.tw/\">列2 欄4 (資料協會) </a>, <a href=\"http://foundation.datasci.tw/python-crawling-170813/\" id=\"hyperlink\"> 列3 欄3 (資料協會-python 爬蟲實戰)</a>]\n"
     ]
    }
   ],
   "source": [
    "# your codes\n",
    "response = requests.get(\"https://jimmy15923.github.io/example_page\")\n",
    "soup = BeautifulSoup(response.text, 'lxml')\n",
    "print(soup.find_all(\"\",href = re.compile(\"http://foundation.datasci.tw/\")))"
   ]
  },
  {
   "cell_type": "code",
   "execution_count": 20,
   "metadata": {},
   "outputs": [
    {
     "name": "stdout",
     "output_type": "stream",
     "text": [
      "[<li class=\"comp_loca\">新北市 / 永和區 永亨路49號</li>, <li class=\"comp_loca\">新北市 / 板橋區 僑中一街124巷62-20號</li>, <li class=\"comp_loca\">新北市 / 板橋區 僑中一街124巷62-20號</li>, <li class=\"comp_loca\">新北市 / 板橋區 國光路39號</li>]\n"
     ]
    }
   ],
   "source": [
    "import requests\n",
    "from bs4 import BeautifulSoup\n",
    "import re\n",
    "\n",
    "# your codes\n",
    "response = requests.get(\"http://yp.518.com.tw/service-life.html?ctf=10\")\n",
    "soup = BeautifulSoup(response.text, 'lxml')\n",
    "print(soup.find_all(\"li\",class_=\"comp_loca\", text = re.compile(\"新北\")))"
   ]
  },
  {
   "cell_type": "code",
   "execution_count": 24,
   "metadata": {},
   "outputs": [
    {
     "name": "stdout",
     "output_type": "stream",
     "text": [
      "UTF-8\n"
     ]
    }
   ],
   "source": [
    "import requests\n",
    "from bs4 import BeautifulSoup\n",
    "import re\n",
    "\n",
    "respone = requests.get(\"https://www.thsrc.com.tw/tw/TimeTable/SearchResult\")\n",
    "print(response.encoding)\n",
    "soup = BeautifulSoup(response.text, \"lxml\")"
   ]
  },
  {
   "cell_type": "code",
   "execution_count": 26,
   "metadata": {},
   "outputs": [
    {
     "data": {
      "text/plain": [
       "[]"
      ]
     },
     "execution_count": 26,
     "metadata": {},
     "output_type": "execute_result"
    }
   ],
   "source": [
    "soup.find_all(\"option\", {\"value\":re.compile(\"[a-z0-9]{8}-[a-z0-9]{4}\")})"
   ]
  },
  {
   "cell_type": "code",
   "execution_count": 28,
   "metadata": {},
   "outputs": [
    {
     "name": "stdout",
     "output_type": "stream",
     "text": [
      "None\n"
     ]
    }
   ],
   "source": [
    "print(soup.find(\"section\", class_ = \"result_table\"))"
   ]
  },
  {
   "cell_type": "code",
   "execution_count": 45,
   "metadata": {},
   "outputs": [
    {
     "data": {
      "text/plain": [
       "<tr>\n",
       "<th colspan=\"4\" scope=\"col\">車次資訊</th>\n",
       "<th colspan=\"1\" scope=\"col\">適用優惠</th>\n",
       "<th rowspan=\"2\" scope=\"col\">備註</th>\n",
       "</tr>"
      ]
     },
     "execution_count": 45,
     "metadata": {},
     "output_type": "execute_result"
    }
   ],
   "source": [
    "form_data = {\"StartStation\":\"2f940836-cedc-41ef-8e28-c2336ac8fe68\",\n",
    "             \"EndStation\":\"e6e26e66-7dc1-458f-b2f3-71ce65fdc95f\",\n",
    "             \"SearchDate\":\"2017/10/13\",\n",
    "             \"SearchTime\":\"20:30\",\n",
    "             \"SearchWay\":\"DepartureInMandarin\"}\n",
    "response_post = requests.post(\"https://www.thsrc.com.tw/tw/TimeTable/SearchResult\", data = form_data)\n",
    "soup_post = BeautifulSoup(response_post.text, \"lxml\")\n",
    "\n",
    "soup_post.find(\"section\", class_ = \"result_table\").find(\"tr\")"
   ]
  },
  {
   "cell_type": "code",
   "execution_count": 49,
   "metadata": {},
   "outputs": [
    {
     "name": "stdout",
     "output_type": "stream",
     "text": [
      "10\n"
     ]
    }
   ],
   "source": [
    "# your codes\n",
    "import requests\n",
    "from bs4 import BeautifulSoup\n",
    "\n",
    "# 將要查詢的資料寫成 dictionary\n",
    "form_data = {\"StartStation\":\"2f940836-cedc-41ef-8e28-c2336ac8fe68\",\n",
    "             \"EndStation\":\"9c5ac6ca-ec89-48f8-aab0-41b738cb1814\",\n",
    "             \"SearchDate\":\"2017/10/14\",\n",
    "             \"SearchTime\":\"07:30\",\n",
    "             \"SearchWay\":\"DepartureInMandarin\"}\n",
    "\n",
    "# requests 改用 POST，並放入剛剛寫好的 dictionary\n",
    "response_post = requests.post(\"https://www.thsrc.com.tw/tw/TimeTable/SearchResult\", data = form_data)\n",
    "soup_post = BeautifulSoup(response_post.text, \"lxml\")\n",
    "\n",
    "# 觀察高鐵網頁後，發現車次資訊藏在 屬性 class=column1 的標籤裡面\n",
    "print(len(soup_post.find_all(\"td\", {\"class\":\"column1\"})))"
   ]
  },
  {
   "cell_type": "code",
   "execution_count": 12,
   "metadata": {
    "collapsed": true
   },
   "outputs": [],
   "source": [
    "import requests\n",
    "from bs4 import BeautifulSoup\n",
    "import re\n",
    "import pandas as pd"
   ]
  },
  {
   "cell_type": "code",
   "execution_count": 17,
   "metadata": {
    "collapsed": true
   },
   "outputs": [],
   "source": [
    "# 將要查詢的資料寫成 dictionary\n",
    "form_data = {\n",
    " \"StartStation\":\"2f940836-cedc-41ef-8e28-c2336ac8fe68\",\n",
    " \"EndStation\":\"9c5ac6ca-ec89-48f8-aab0-41b738cb1814\",\n",
    " \"SearchDate\":\"2017/10/14\",\n",
    " \"SearchTime\":\"07:30\", \n",
    " \"SearchWay\":\"DepartureInMandarin\"}\n",
    "\n",
    "response_post = requests.post(\"https://www.thsrc.com.tw/tw/TimeTable/SearchResult\", data = form_data) # 使用 POST\n",
    "soup_post = BeautifulSoup(response_post.text, \"lxml\") # 用 BeautifulSoup 解析網頁"
   ]
  },
  {
   "cell_type": "code",
   "execution_count": 18,
   "metadata": {
    "collapsed": true
   },
   "outputs": [],
   "source": [
    "train_number = [tag.text for tag in soup_post.find_all(\"td\", class_=\"column1\")] # 找出所有 td 標籤 屬性 class=column1 的內容，並存成 List\n",
    "departure = [tag.text for tag in soup_post.find_all(\"td\", class_=\"column3\")] # 找出所有 td 標籤 屬性 class=column3 的內容，並存成 List\n",
    "arrival = [tag.text for tag in soup_post.find_all(\"td\", class_=\"column4\")] # 找出所有 td 標籤 屬性 class=column4 的內容，並存成 List\n",
    "travel_time = [tag.text for tag in soup_post.find_all(\"td\", class_=\"column2\")] # 找出所有 td 標籤 屬性 class=column2 的內容，並存成 List"
   ]
  },
  {
   "cell_type": "code",
   "execution_count": 19,
   "metadata": {
    "collapsed": true
   },
   "outputs": [],
   "source": [
    "highspeed_df = pd.DataFrame({\"車次\":train_number,\n",
    "                          \"出發時間\":departure,\n",
    "                          \"抵達時間\":arrival,\n",
    "                          \"行車時間\":travel_time}, columns = [\"車次\", \"出發時間\", \"抵達時間\", \"行車時間\"])\n"
   ]
  },
  {
   "cell_type": "code",
   "execution_count": 20,
   "metadata": {},
   "outputs": [
    {
     "data": {
      "text/html": [
       "<div>\n",
       "<style>\n",
       "    .dataframe thead tr:only-child th {\n",
       "        text-align: right;\n",
       "    }\n",
       "\n",
       "    .dataframe thead th {\n",
       "        text-align: left;\n",
       "    }\n",
       "\n",
       "    .dataframe tbody tr th {\n",
       "        vertical-align: top;\n",
       "    }\n",
       "</style>\n",
       "<table border=\"1\" class=\"dataframe\">\n",
       "  <thead>\n",
       "    <tr style=\"text-align: right;\">\n",
       "      <th></th>\n",
       "      <th>車次</th>\n",
       "      <th>出發時間</th>\n",
       "      <th>抵達時間</th>\n",
       "      <th>行車時間</th>\n",
       "    </tr>\n",
       "  </thead>\n",
       "  <tbody>\n",
       "    <tr>\n",
       "      <th>0</th>\n",
       "      <td>0609</td>\n",
       "      <td>07:35</td>\n",
       "      <td>09:32</td>\n",
       "      <td>01:57</td>\n",
       "    </tr>\n",
       "    <tr>\n",
       "      <th>1</th>\n",
       "      <td>0205</td>\n",
       "      <td>07:40</td>\n",
       "      <td>09:17</td>\n",
       "      <td>01:37</td>\n",
       "    </tr>\n",
       "    <tr>\n",
       "      <th>2</th>\n",
       "      <td>0809</td>\n",
       "      <td>08:00</td>\n",
       "      <td>10:11</td>\n",
       "      <td>02:11</td>\n",
       "    </tr>\n",
       "    <tr>\n",
       "      <th>3</th>\n",
       "      <td>0613</td>\n",
       "      <td>08:10</td>\n",
       "      <td>10:06</td>\n",
       "      <td>01:56</td>\n",
       "    </tr>\n",
       "    <tr>\n",
       "      <th>4</th>\n",
       "      <td>0615</td>\n",
       "      <td>08:35</td>\n",
       "      <td>10:32</td>\n",
       "      <td>01:57</td>\n",
       "    </tr>\n",
       "    <tr>\n",
       "      <th>5</th>\n",
       "      <td>1209</td>\n",
       "      <td>08:40</td>\n",
       "      <td>10:17</td>\n",
       "      <td>01:37</td>\n",
       "    </tr>\n",
       "    <tr>\n",
       "      <th>6</th>\n",
       "      <td>0813</td>\n",
       "      <td>09:00</td>\n",
       "      <td>11:11</td>\n",
       "      <td>02:11</td>\n",
       "    </tr>\n",
       "    <tr>\n",
       "      <th>7</th>\n",
       "      <td>0619</td>\n",
       "      <td>09:10</td>\n",
       "      <td>11:06</td>\n",
       "      <td>01:56</td>\n",
       "    </tr>\n",
       "    <tr>\n",
       "      <th>8</th>\n",
       "      <td>0621</td>\n",
       "      <td>09:35</td>\n",
       "      <td>11:32</td>\n",
       "      <td>01:57</td>\n",
       "    </tr>\n",
       "    <tr>\n",
       "      <th>9</th>\n",
       "      <td>1213</td>\n",
       "      <td>09:40</td>\n",
       "      <td>11:17</td>\n",
       "      <td>01:37</td>\n",
       "    </tr>\n",
       "  </tbody>\n",
       "</table>\n",
       "</div>"
      ],
      "text/plain": [
       "     車次   出發時間   抵達時間   行車時間\n",
       "0  0609  07:35  09:32  01:57\n",
       "1  0205  07:40  09:17  01:37\n",
       "2  0809  08:00  10:11  02:11\n",
       "3  0613  08:10  10:06  01:56\n",
       "4  0615  08:35  10:32  01:57\n",
       "5  1209  08:40  10:17  01:37\n",
       "6  0813  09:00  11:11  02:11\n",
       "7  0619  09:10  11:06  01:56\n",
       "8  0621  09:35  11:32  01:57\n",
       "9  1213  09:40  11:17  01:37"
      ]
     },
     "execution_count": 20,
     "metadata": {},
     "output_type": "execute_result"
    }
   ],
   "source": [
    "highspeed_df"
   ]
  },
  {
   "cell_type": "code",
   "execution_count": 25,
   "metadata": {
    "collapsed": true
   },
   "outputs": [],
   "source": [
    "# 將要查詢的資料寫成 dictionary\n",
    "form_data = {\n",
    " \"StartStation\":\"2f940836-cedc-41ef-8e28-c2336ac8fe68\",\n",
    " \"EndStation\":\"9c5ac6ca-ec89-48f8-aab0-41b738cb1814\",\n",
    " \"SearchDate\":\"2017/11/14\",\n",
    " \"SearchTime\":\"21:30\", \n",
    " \"SearchWay\":\"DepartureInMandarin\"}\n",
    "\n",
    "response_post = requests.post(\"https://www.thsrc.com.tw/tw/TimeTable/SearchResult\", data = form_data) # 使用 POST\n",
    "soup_post = BeautifulSoup(response_post.text, \"lxml\") # 用 BeautifulSoup 解析網頁"
   ]
  },
  {
   "cell_type": "code",
   "execution_count": 26,
   "metadata": {
    "collapsed": true
   },
   "outputs": [],
   "source": [
    "highspeed_df = pd.DataFrame(columns = [\"車次\", \"出發時間\", \"抵達時間\", \"行車時間\"]) # 先建立好 DataFrame"
   ]
  },
  {
   "cell_type": "code",
   "execution_count": 27,
   "metadata": {},
   "outputs": [
    {
     "name": "stdout",
     "output_type": "stream",
     "text": [
      "0\n",
      "1\n",
      "2\n"
     ]
    }
   ],
   "source": [
    "for i in range(3):\n",
    "    print(i)\n",
    "    row = soup_post.find_all(\"table\", class_=\"touch_table\")[i] # table 這個標籤包含所有行車資訊，我們用 index 一個一個 by row 取出來\n",
    "    row_contents = [tag.text for tag in row.find_all(\"td\", class_= re.compile(\"column\"))] # 一個 row 有包含其他資訊，我們只要選出 class 包含 column 的 內容\n",
    "    highspeed_df.loc[i] = row_contents # DataFrame 中， 第 i 行的值等於 row_text"
   ]
  },
  {
   "cell_type": "code",
   "execution_count": 28,
   "metadata": {},
   "outputs": [
    {
     "data": {
      "text/html": [
       "<div>\n",
       "<style>\n",
       "    .dataframe thead tr:only-child th {\n",
       "        text-align: right;\n",
       "    }\n",
       "\n",
       "    .dataframe thead th {\n",
       "        text-align: left;\n",
       "    }\n",
       "\n",
       "    .dataframe tbody tr th {\n",
       "        vertical-align: top;\n",
       "    }\n",
       "</style>\n",
       "<table border=\"1\" class=\"dataframe\">\n",
       "  <thead>\n",
       "    <tr style=\"text-align: right;\">\n",
       "      <th></th>\n",
       "      <th>車次</th>\n",
       "      <th>出發時間</th>\n",
       "      <th>抵達時間</th>\n",
       "      <th>行車時間</th>\n",
       "    </tr>\n",
       "  </thead>\n",
       "  <tbody>\n",
       "    <tr>\n",
       "      <th>0</th>\n",
       "      <td>0693</td>\n",
       "      <td>21:30</td>\n",
       "      <td>23:27</td>\n",
       "      <td>01:57</td>\n",
       "    </tr>\n",
       "    <tr>\n",
       "      <th>1</th>\n",
       "      <td>0333</td>\n",
       "      <td>21:45</td>\n",
       "      <td>23:41</td>\n",
       "      <td>01:56</td>\n",
       "    </tr>\n",
       "    <tr>\n",
       "      <th>2</th>\n",
       "      <td>0295</td>\n",
       "      <td>22:05</td>\n",
       "      <td>23:47</td>\n",
       "      <td>01:42</td>\n",
       "    </tr>\n",
       "  </tbody>\n",
       "</table>\n",
       "</div>"
      ],
      "text/plain": [
       "     車次   出發時間   抵達時間   行車時間\n",
       "0  0693  21:30  23:27  01:57\n",
       "1  0333  21:45  23:41  01:56\n",
       "2  0295  22:05  23:47  01:42"
      ]
     },
     "execution_count": 28,
     "metadata": {},
     "output_type": "execute_result"
    }
   ],
   "source": [
    "highspeed_df"
   ]
  },
  {
   "cell_type": "code",
   "execution_count": 34,
   "metadata": {},
   "outputs": [
    {
     "data": {
      "text/html": [
       "<div>\n",
       "<style>\n",
       "    .dataframe thead tr:only-child th {\n",
       "        text-align: right;\n",
       "    }\n",
       "\n",
       "    .dataframe thead th {\n",
       "        text-align: left;\n",
       "    }\n",
       "\n",
       "    .dataframe tbody tr th {\n",
       "        vertical-align: top;\n",
       "    }\n",
       "</style>\n",
       "<table border=\"1\" class=\"dataframe\">\n",
       "  <thead>\n",
       "    <tr style=\"text-align: right;\">\n",
       "      <th></th>\n",
       "      <th>店名</th>\n",
       "      <th>地址</th>\n",
       "      <th>電話</th>\n",
       "    </tr>\n",
       "  </thead>\n",
       "  <tbody>\n",
       "    <tr>\n",
       "      <th>0</th>\n",
       "      <td>藍柚小廚</td>\n",
       "      <td>新北市 / 永和區 永亨路49號</td>\n",
       "      <td>02-29242789</td>\n",
       "    </tr>\n",
       "    <tr>\n",
       "      <th>1</th>\n",
       "      <td>果蔗新鮮</td>\n",
       "      <td>桃園縣 / 龍潭鄉 龍元路33號</td>\n",
       "      <td>03-4709933</td>\n",
       "    </tr>\n",
       "    <tr>\n",
       "      <th>2</th>\n",
       "      <td>沁采美食館</td>\n",
       "      <td>台中市 / 北區 進德北路38號</td>\n",
       "      <td>04-23601719</td>\n",
       "    </tr>\n",
       "    <tr>\n",
       "      <th>3</th>\n",
       "      <td>御私藏鮮奶茶專賣</td>\n",
       "      <td>台南市 / 東區 育樂街17號</td>\n",
       "      <td>06-2092929</td>\n",
       "    </tr>\n",
       "    <tr>\n",
       "      <th>4</th>\n",
       "      <td>天沅茶舖</td>\n",
       "      <td>嘉義市 / 西區 仁愛路449號</td>\n",
       "      <td>05-2238686</td>\n",
       "    </tr>\n",
       "    <tr>\n",
       "      <th>5</th>\n",
       "      <td>板塊企業有限公司</td>\n",
       "      <td>高雄市 / 湖內區 忠孝街130巷139號</td>\n",
       "      <td>07-6994433</td>\n",
       "    </tr>\n",
       "    <tr>\n",
       "      <th>6</th>\n",
       "      <td>多那之咖啡蛋糕烘焙-德賢店</td>\n",
       "      <td>高雄市 / 楠梓區 德賢路471號</td>\n",
       "      <td>07-3610768</td>\n",
       "    </tr>\n",
       "    <tr>\n",
       "      <th>7</th>\n",
       "      <td>旺朔食品企業社</td>\n",
       "      <td>新北市 / 板橋區 僑中一街124巷62-20號</td>\n",
       "      <td>02-29662939</td>\n",
       "    </tr>\n",
       "    <tr>\n",
       "      <th>8</th>\n",
       "      <td>旺朔食品企業社</td>\n",
       "      <td>新北市 / 板橋區 僑中一街124巷62-20號</td>\n",
       "      <td>02-29662939</td>\n",
       "    </tr>\n",
       "    <tr>\n",
       "      <th>9</th>\n",
       "      <td>大庭牛肉麵</td>\n",
       "      <td>新北市 / 板橋區 國光路39號</td>\n",
       "      <td>02-29609370</td>\n",
       "    </tr>\n",
       "  </tbody>\n",
       "</table>\n",
       "</div>"
      ],
      "text/plain": [
       "              店名                        地址           電話\n",
       "0           藍柚小廚          新北市 / 永和區 永亨路49號  02-29242789\n",
       "1           果蔗新鮮          桃園縣 / 龍潭鄉 龍元路33號   03-4709933\n",
       "2          沁采美食館          台中市 / 北區 進德北路38號  04-23601719\n",
       "3       御私藏鮮奶茶專賣           台南市 / 東區 育樂街17號   06-2092929\n",
       "4           天沅茶舖          嘉義市 / 西區 仁愛路449號   05-2238686\n",
       "5       板塊企業有限公司     高雄市 / 湖內區 忠孝街130巷139號   07-6994433\n",
       "6  多那之咖啡蛋糕烘焙-德賢店         高雄市 / 楠梓區 德賢路471號   07-3610768\n",
       "7        旺朔食品企業社  新北市 / 板橋區 僑中一街124巷62-20號  02-29662939\n",
       "8        旺朔食品企業社  新北市 / 板橋區 僑中一街124巷62-20號  02-29662939\n",
       "9          大庭牛肉麵          新北市 / 板橋區 國光路39號  02-29609370"
      ]
     },
     "execution_count": 34,
     "metadata": {},
     "output_type": "execute_result"
    }
   ],
   "source": [
    "# your codes\n",
    "import requests\n",
    "from bs4 import BeautifulSoup\n",
    "import re\n",
    "import pandas as pd\n",
    "\n",
    "response = requests.get(\"http://yp.518.com.tw/service-life.html?ctf=10\")\n",
    "soup = BeautifulSoup(response.text, \"lxml\")\n",
    "\n",
    "name_phone = [tag.text for tag in soup.find_all(\"li\", class_=\"comp_tel\")]\n",
    "address = [tag.text for tag in soup.find_all(\"li\", class_=\"comp_loca\")]\n",
    "\n",
    "name_phone_str = \"\".join(name_phone)\n",
    "phone = re.findall(\"[0-9]{2}-[0-9]+\", name_phone_str)\n",
    "name = [x.split(\"/\")[0].strip() for x in name_phone]\n",
    "\n",
    "df = pd.DataFrame({'店名':name,\n",
    "                  \"地址\":address,\n",
    "                  \"電話\":phone}, columns = [\"店名\", \"地址\",\"電話\"])\n",
    "df.to_csv(\"practice05.csv\", index = False, encoding=\"cp950\")\n",
    "df"
   ]
  },
  {
   "cell_type": "code",
   "execution_count": 6,
   "metadata": {
    "collapsed": true
   },
   "outputs": [],
   "source": [
    "import requests\n",
    "from bs4 import BeautifulSoup\n",
    "import pandas as pd\n",
    "\n",
    "response = requests.get(\"http://www.taipeibo.com/yearly\")\n",
    "response.encoding = \"utf-8\"\n",
    "soup = BeautifulSoup(response.text, \"lxml\")"
   ]
  },
  {
   "cell_type": "code",
   "execution_count": 7,
   "metadata": {},
   "outputs": [
    {
     "name": "stdout",
     "output_type": "stream",
     "text": [
      "[<tr class=\"tb-top\">\n",
      "<th>週次</th>\n",
      "<th>日期</th>\n",
      "<th>週末票房總和</th>\n",
      "<th>漲跌幅</th>\n",
      "<th>冠軍片名</th>\n",
      "<th>英文片名</th>\n",
      "<th class=\"import\">週末票房冠軍</th>\n",
      "<th>冠軍比例*</th>\n",
      "</tr>, <tr>\n",
      "<td class=\"list-h1\" data-th=\"週次\">43</td>\n",
      "<td class=\"list-h2\" data-th=\"日期\">10/28 - 29</td>\n",
      "<td class=\"list-h3\" data-th=\"週末票房總和\">43,011,096</td>\n",
      "<td class=\"t-up list-h4\" data-th=\"漲跌幅\">+35.7%</td>\n",
      "<td class=\"list-h5\" data-th=\"冠軍片名\">雷神索爾3：諸神黃昏</td>\n",
      "<td class=\"list-h6\" data-th=\"英文片名\">Thor: Ragnarok</td>\n",
      "<td class=\"import list-h7\" data-th=\"周末票房冠軍\">28,056,646</td>\n",
      "<td class=\"list-h8\" data-th=\"冠軍比例\">65.23%</td>\n",
      "</tr>]\n"
     ]
    }
   ],
   "source": [
    "all_rows = soup.table.find_all(\"tr\")\n",
    "print(all_rows[:2])"
   ]
  },
  {
   "cell_type": "code",
   "execution_count": 8,
   "metadata": {
    "collapsed": true
   },
   "outputs": [],
   "source": [
    "column_name_tag = all_rows[0]"
   ]
  },
  {
   "cell_type": "code",
   "execution_count": 9,
   "metadata": {},
   "outputs": [
    {
     "name": "stdout",
     "output_type": "stream",
     "text": [
      "['週次', '日期', '週末票房總和', '漲跌幅', '冠軍片名', '英文片名', '週末票房冠軍', '冠軍比例*']\n"
     ]
    }
   ],
   "source": [
    "print([text for text in column_name_tag.stripped_strings])\n",
    "\n",
    "column_name = [text for text in column_name_tag.stripped_strings]"
   ]
  },
  {
   "cell_type": "code",
   "execution_count": 10,
   "metadata": {},
   "outputs": [
    {
     "data": {
      "text/html": [
       "<div>\n",
       "<style>\n",
       "    .dataframe thead tr:only-child th {\n",
       "        text-align: right;\n",
       "    }\n",
       "\n",
       "    .dataframe thead th {\n",
       "        text-align: left;\n",
       "    }\n",
       "\n",
       "    .dataframe tbody tr th {\n",
       "        vertical-align: top;\n",
       "    }\n",
       "</style>\n",
       "<table border=\"1\" class=\"dataframe\">\n",
       "  <thead>\n",
       "    <tr style=\"text-align: right;\">\n",
       "      <th></th>\n",
       "      <th>週次</th>\n",
       "      <th>日期</th>\n",
       "      <th>週末票房總和</th>\n",
       "      <th>漲跌幅</th>\n",
       "      <th>冠軍片名</th>\n",
       "      <th>英文片名</th>\n",
       "      <th>週末票房冠軍</th>\n",
       "      <th>冠軍比例*</th>\n",
       "    </tr>\n",
       "  </thead>\n",
       "  <tbody>\n",
       "  </tbody>\n",
       "</table>\n",
       "</div>"
      ],
      "text/plain": [
       "Empty DataFrame\n",
       "Columns: [週次, 日期, 週末票房總和, 漲跌幅, 冠軍片名, 英文片名, 週末票房冠軍, 冠軍比例*]\n",
       "Index: []"
      ]
     },
     "execution_count": 10,
     "metadata": {},
     "output_type": "execute_result"
    }
   ],
   "source": [
    "movie_df = pd.DataFrame(columns = column_name )\n",
    "movie_df"
   ]
  },
  {
   "cell_type": "code",
   "execution_count": 11,
   "metadata": {},
   "outputs": [
    {
     "name": "stdout",
     "output_type": "stream",
     "text": [
      "['43', '10/28 - 29', '43,011,096', '+35.7%', '雷神索爾3：諸神黃昏', 'Thor: Ragnarok', '28,056,646', '65.23%']\n",
      "['42', '10/21 - 22', '31,697,046', '-9.8%', '氣象戰', 'Geostorm', '12,935,086', '40.81%']\n",
      "['41', '10/14 - 15', '35,127,076', '+35.5%', '氣象戰', 'Geostorm', '15,827,018', '45.06%']\n",
      "['40', '10/07 - 08', '25,917,018', '-7.1%', '銀翼殺手2049', 'Blade Runner 2049', '6,987,193', '26.96%']\n",
      "['39', '09/30 - 10/01', '27,901,643', '-36.1%', '金牌特務：機密對決', 'Kingsman: The Golden Circle', '14,461,654', '51.83%']\n",
      "['38', '09/23 - 24', '43,648,752', '+58.9%', '金牌特務：機密對決', 'Kingsman: The Golden Circle', '31,199,039', '71.48%']\n",
      "['37', '09/16 - 17', '27,472,133', '-4.9%', '牠', 'It', '7,000,670', '25.48%']\n",
      "['36', '09/09 - 10', '28,878,848', '+12.0%', '牠', 'It', '9,396,297', '32.54%']\n",
      "['35', '09/02 - 03', '25,777,470', '-18.7%', '紅衣小女孩2', 'The Tag-Along 2', '4,114,797', '15.96%']\n",
      "['34', '08/26 - 27', '31,725,727', '+0.9%', '美國製造', 'American Made', '7,142,567', '22.51%']\n",
      "['33', '08/19 - 20', '31,452,999', '+0.7%', '殺手保鑣', \"The Hitman's Bodyguard\", '7,583,398', '24.11%']\n",
      "['32', '08/12 - 13', '31,238,443', '+4.5%', '安娜貝爾：造孽', 'Annabelle: Creation', '8,645,447', '27.68%']\n",
      "['31', '08/05 - 06', '29,902,198', '+13.3%', '模犯生', 'Bad Genius', '5,562,901', '18.60%']\n",
      "['30', '07/29 - 30', '26,392,639', '-28.2%', '敦克爾克大行動', 'Dunkirk', '6,008,394', '22.77%']\n",
      "['29', '07/22 - 23', '36,766,707', '-11.5%', '敦克爾克大行動', 'Dunkirk', '11,143,938', '30.31%']\n",
      "['28', '07/15 - 16', '41,532,307', '-1.7%', '猩球崛起：終極決戰', 'War for the Planet of the Apes', '13,670,006', '32.91%']\n",
      "['27', '07/08 - 09', '42,249,157', '+26.7%', '蜘蛛人：返校日', 'Spider-Man: Homecoming', '25,573,718', '60.53%']\n",
      "['26', '07/01 - 02', '33,342,350', '+1.7%', '神偷奶爸3', 'Despicable Me 3', '13,361,083', '40.07%']\n",
      "['25', '06/24 - 25', '32,798,987', '+7.1%', '變形金剛5：最終騎士', 'Transformers: The Last Knight', '18,392,933', '56.08%']\n",
      "['24', '06/17 - 18', '30,627,483', '-35.8%', '神鬼傳奇', 'The Mummy', '11,822,715', '38.60%']\n",
      "['23', '06/10 - 11', '47,690,608', '+16.1%', '神鬼傳奇', 'The Mummy', '25,342,873', '53.14%']\n",
      "['22', '06/03 - 04', '41,065,920', '+2.0%', '神力女超人', 'Wonder Woman', '22,552,902', '54.92%']\n",
      "['21', '05/27 - 28', '40,249,069', '+72.1%', '加勒比海盜 神鬼奇航：死無對證', 'Pirates of the Caribbean: Dead Men Tell No Tales', '19,807,313', '49.21%']\n",
      "['20', '05/20 - 21', '23,391,591', '-12.5%', '異形：聖約', 'Alien: Covenant', '4,426,175', '18.92%']\n",
      "['19', '05/13 - 14', '26,723,984', '+2.1%', '異形：聖約', 'Alien: Covenant', '7,948,394', '29.74%']\n",
      "['18', '05/06 - 07', '26,164,753', '-33.3%', '星際異攻隊2', 'Guardians of the Galaxy Vol. 2', '6,389,709', '24.42%']\n",
      "['17', '04/29 - 30', '39,251,412', '-13.0%', '星際異攻隊2', 'Guardians of the Galaxy Vol. 2', '14,394,979', '36.67%']\n",
      "['16', '04/22 - 23', '45,129,299', '-21.0%', '玩命關頭8', 'Fast & Furious 8', '25,495,070', '56.49%']\n",
      "['15', '04/15 - 16', '57,119,679', '+101.8%', '玩命關頭8', 'Fast & Furious 8', '43,723,394', '76.55%']\n",
      "['14', '04/08 - 09', '28,305,387', '-27.3%', '我和我的冠軍女兒', 'Dangal', '5,320,460', '18.80%']\n",
      "['13', '04/01 - 02', '38,910,589', '-1.3%', '攻殼機動隊', 'Ghost in the Shell', '9,109,929', '23.41%']\n",
      "['12', '03/25 - 26', '39,433,059', '-3.9%', '美女與野獸', 'Beauty and the Beast', '13,716,273', '34.78%']\n",
      "['11', '03/18 - 19', '41,042,742', '-3.3%', '美女與野獸', 'Beauty and the Beast', '18,479,670', '45.03%']\n",
      "['10', '03/11 - 12', '42,432,794', '+22.1%', '金剛：骷髏島', 'Kong: Skull Island', '22,498,616', '53.02%']\n",
      "['9', '03/04 - 05', '34,742,444', '+0.2%', '羅根', 'Logan', '19,151,017', '55.12%']\n",
      "['8', '02/25 - 26', '34,686,509', '+22.6%', '為了與你相遇', \"A Dog's Purpose\", '6,496,370', '18.73%']\n",
      "['7', '02/18 - 19', '28,289,101', '-24.3%', '分裂', 'Split', '5,254,230', '18.57%']\n",
      "['6', '02/11 - 12', '37,347,272', '+0.0%', '分裂', 'Split', '7,854,274', '21.03%']\n",
      "['5', '02/04 - 05', '37,341,953', '-11.9%', '分裂', 'Split', '12,126,104', '32.47%']\n",
      "['4', '01/28 - 29', '42,383,866', '+65.6%', '惡靈古堡：最終章', 'Resident Evil: The Final Chapter', '14,190,341', '33.48%']\n",
      "['3', '01/21 - 22', '25,592,268', '+5.7%', '限制級戰警：重返極限', 'xXx: Return of Xander Cage', '12,422,855', '48.54%']\n",
      "['2', '01/14 - 15', '24,201,453', '-0.6%', '樂來越愛你', 'La La Land', '3,633,570', '15.01%']\n",
      "['1', '01/07 - 08', '24,340,462', '-46.5%', '長城', 'The Great Wall', '4,877,021', '20.04%']\n"
     ]
    }
   ],
   "source": [
    "movie_df = pd.DataFrame(columns = column_name )\n",
    "for i, row in enumerate(all_rows[1:]):\n",
    "    data_want = [s for s  in row.stripped_strings]\n",
    "    print(data_want)\n",
    "    movie_df.loc[i] = data_want"
   ]
  },
  {
   "cell_type": "code",
   "execution_count": 13,
   "metadata": {},
   "outputs": [
    {
     "data": {
      "text/html": [
       "<div>\n",
       "<style>\n",
       "    .dataframe thead tr:only-child th {\n",
       "        text-align: right;\n",
       "    }\n",
       "\n",
       "    .dataframe thead th {\n",
       "        text-align: left;\n",
       "    }\n",
       "\n",
       "    .dataframe tbody tr th {\n",
       "        vertical-align: top;\n",
       "    }\n",
       "</style>\n",
       "<table border=\"1\" class=\"dataframe\">\n",
       "  <thead>\n",
       "    <tr style=\"text-align: right;\">\n",
       "      <th></th>\n",
       "      <th>週次</th>\n",
       "      <th>日期</th>\n",
       "      <th>週末票房總和</th>\n",
       "      <th>漲跌幅</th>\n",
       "      <th>冠軍片名</th>\n",
       "      <th>英文片名</th>\n",
       "      <th>週末票房冠軍</th>\n",
       "      <th>冠軍比例*</th>\n",
       "    </tr>\n",
       "  </thead>\n",
       "  <tbody>\n",
       "    <tr>\n",
       "      <th>0</th>\n",
       "      <td>43</td>\n",
       "      <td>10/28 - 29</td>\n",
       "      <td>43,011,096</td>\n",
       "      <td>+35.7%</td>\n",
       "      <td>雷神索爾3：諸神黃昏</td>\n",
       "      <td>Thor: Ragnarok</td>\n",
       "      <td>28,056,646</td>\n",
       "      <td>65.23%</td>\n",
       "    </tr>\n",
       "    <tr>\n",
       "      <th>1</th>\n",
       "      <td>42</td>\n",
       "      <td>10/21 - 22</td>\n",
       "      <td>31,697,046</td>\n",
       "      <td>-9.8%</td>\n",
       "      <td>氣象戰</td>\n",
       "      <td>Geostorm</td>\n",
       "      <td>12,935,086</td>\n",
       "      <td>40.81%</td>\n",
       "    </tr>\n",
       "    <tr>\n",
       "      <th>2</th>\n",
       "      <td>41</td>\n",
       "      <td>10/14 - 15</td>\n",
       "      <td>35,127,076</td>\n",
       "      <td>+35.5%</td>\n",
       "      <td>氣象戰</td>\n",
       "      <td>Geostorm</td>\n",
       "      <td>15,827,018</td>\n",
       "      <td>45.06%</td>\n",
       "    </tr>\n",
       "    <tr>\n",
       "      <th>3</th>\n",
       "      <td>40</td>\n",
       "      <td>10/07 - 08</td>\n",
       "      <td>25,917,018</td>\n",
       "      <td>-7.1%</td>\n",
       "      <td>銀翼殺手2049</td>\n",
       "      <td>Blade Runner 2049</td>\n",
       "      <td>6,987,193</td>\n",
       "      <td>26.96%</td>\n",
       "    </tr>\n",
       "    <tr>\n",
       "      <th>4</th>\n",
       "      <td>39</td>\n",
       "      <td>09/30 - 10/01</td>\n",
       "      <td>27,901,643</td>\n",
       "      <td>-36.1%</td>\n",
       "      <td>金牌特務：機密對決</td>\n",
       "      <td>Kingsman: The Golden Circle</td>\n",
       "      <td>14,461,654</td>\n",
       "      <td>51.83%</td>\n",
       "    </tr>\n",
       "  </tbody>\n",
       "</table>\n",
       "</div>"
      ],
      "text/plain": [
       "   週次             日期      週末票房總和     漲跌幅        冠軍片名  \\\n",
       "0  43     10/28 - 29  43,011,096  +35.7%  雷神索爾3：諸神黃昏   \n",
       "1  42     10/21 - 22  31,697,046   -9.8%         氣象戰   \n",
       "2  41     10/14 - 15  35,127,076  +35.5%         氣象戰   \n",
       "3  40     10/07 - 08  25,917,018   -7.1%    銀翼殺手2049   \n",
       "4  39  09/30 - 10/01  27,901,643  -36.1%   金牌特務：機密對決   \n",
       "\n",
       "                          英文片名      週末票房冠軍   冠軍比例*  \n",
       "0               Thor: Ragnarok  28,056,646  65.23%  \n",
       "1                     Geostorm  12,935,086  40.81%  \n",
       "2                     Geostorm  15,827,018  45.06%  \n",
       "3            Blade Runner 2049   6,987,193  26.96%  \n",
       "4  Kingsman: The Golden Circle  14,461,654  51.83%  "
      ]
     },
     "execution_count": 13,
     "metadata": {},
     "output_type": "execute_result"
    }
   ],
   "source": [
    "movie_df.head()"
   ]
  },
  {
   "cell_type": "code",
   "execution_count": 22,
   "metadata": {},
   "outputs": [
    {
     "name": "stdout",
     "output_type": "stream",
     "text": [
      "['週次', '日期', '週末票房總和', '漲跌幅', '冠軍片名', '英文片名', '週末票房冠軍', '冠軍比例*']\n"
     ]
    },
    {
     "data": {
      "text/html": [
       "<div>\n",
       "<style>\n",
       "    .dataframe thead tr:only-child th {\n",
       "        text-align: right;\n",
       "    }\n",
       "\n",
       "    .dataframe thead th {\n",
       "        text-align: left;\n",
       "    }\n",
       "\n",
       "    .dataframe tbody tr th {\n",
       "        vertical-align: top;\n",
       "    }\n",
       "</style>\n",
       "<table border=\"1\" class=\"dataframe\">\n",
       "  <thead>\n",
       "    <tr style=\"text-align: right;\">\n",
       "      <th></th>\n",
       "      <th>週次</th>\n",
       "      <th>日期</th>\n",
       "      <th>週末票房總和</th>\n",
       "      <th>漲跌幅</th>\n",
       "      <th>冠軍片名</th>\n",
       "      <th>英文片名</th>\n",
       "      <th>週末票房冠軍</th>\n",
       "      <th>冠軍比例*</th>\n",
       "    </tr>\n",
       "  </thead>\n",
       "  <tbody>\n",
       "    <tr>\n",
       "      <th>0</th>\n",
       "      <td>53</td>\n",
       "      <td>12/31 - 01/01</td>\n",
       "      <td>45,533,106</td>\n",
       "      <td>+33.3%</td>\n",
       "      <td>長城</td>\n",
       "      <td>The Great Wall</td>\n",
       "      <td>11,359,584</td>\n",
       "      <td>24.95%</td>\n",
       "    </tr>\n",
       "    <tr>\n",
       "      <th>1</th>\n",
       "      <td>52</td>\n",
       "      <td>12/24 - 25</td>\n",
       "      <td>34,153,388</td>\n",
       "      <td>+12.5%</td>\n",
       "      <td>星際過客</td>\n",
       "      <td>Passengers</td>\n",
       "      <td>7,624,582</td>\n",
       "      <td>22.32%</td>\n",
       "    </tr>\n",
       "    <tr>\n",
       "      <th>2</th>\n",
       "      <td>51</td>\n",
       "      <td>12/17 - 18</td>\n",
       "      <td>30,359,285</td>\n",
       "      <td>+5.7%</td>\n",
       "      <td>星際大戰外傳：俠盜一號</td>\n",
       "      <td>Rogue One: A Star Wars Story</td>\n",
       "      <td>9,076,387</td>\n",
       "      <td>29.90%</td>\n",
       "    </tr>\n",
       "    <tr>\n",
       "      <th>3</th>\n",
       "      <td>50</td>\n",
       "      <td>12/10 - 11</td>\n",
       "      <td>28,722,165</td>\n",
       "      <td>-4.2%</td>\n",
       "      <td>歡樂好聲音</td>\n",
       "      <td>Sing</td>\n",
       "      <td>5,711,842</td>\n",
       "      <td>19.89%</td>\n",
       "    </tr>\n",
       "    <tr>\n",
       "      <th>4</th>\n",
       "      <td>49</td>\n",
       "      <td>12/03 - 04</td>\n",
       "      <td>29,976,991</td>\n",
       "      <td>-17.6%</td>\n",
       "      <td>怪獸與牠們的產地</td>\n",
       "      <td>Fantastic Beasts and Where to Find Them</td>\n",
       "      <td>9,876,297</td>\n",
       "      <td>32.95%</td>\n",
       "    </tr>\n",
       "  </tbody>\n",
       "</table>\n",
       "</div>"
      ],
      "text/plain": [
       "   週次             日期      週末票房總和     漲跌幅         冠軍片名  \\\n",
       "0  53  12/31 - 01/01  45,533,106  +33.3%           長城   \n",
       "1  52     12/24 - 25  34,153,388  +12.5%         星際過客   \n",
       "2  51     12/17 - 18  30,359,285   +5.7%  星際大戰外傳：俠盜一號   \n",
       "3  50     12/10 - 11  28,722,165   -4.2%        歡樂好聲音   \n",
       "4  49     12/03 - 04  29,976,991  -17.6%     怪獸與牠們的產地   \n",
       "\n",
       "                                      英文片名      週末票房冠軍   冠軍比例*  \n",
       "0                           The Great Wall  11,359,584  24.95%  \n",
       "1                               Passengers   7,624,582  22.32%  \n",
       "2             Rogue One: A Star Wars Story   9,076,387  29.90%  \n",
       "3                                     Sing   5,711,842  19.89%  \n",
       "4  Fantastic Beasts and Where to Find Them   9,876,297  32.95%  "
      ]
     },
     "execution_count": 22,
     "metadata": {},
     "output_type": "execute_result"
    }
   ],
   "source": [
    "import requests\n",
    "from bs4 import BeautifulSoup\n",
    "import pandas as pd\n",
    "\n",
    "response = requests.get(\"http://www.taipeibo.com/yearly/2016\")\n",
    "response.encoding = \"utf-8\"\n",
    "soup = BeautifulSoup(response.text, \"lxml\")\n",
    "\n",
    "print([col for col in soup.table.find(\"tr\").stripped_strings])\n",
    "col_name = [col for col in soup.table.find(\"tr\").stripped_strings]\n",
    "\n",
    "sale_df = pd.DataFrame(columns = [col_name])\n",
    "\n",
    "all_rows = [row for row in soup.table.find_all(\"tr\")]\n",
    "\n",
    "for i, row in enumerate(all_rows[1:]):\n",
    "    sale_df.loc[i] = [s for s in row.stripped_strings]\n",
    "    \n",
    "sale_df.head()"
   ]
  },
  {
   "cell_type": "code",
   "execution_count": 9,
   "metadata": {},
   "outputs": [
    {
     "name": "stdout",
     "output_type": "stream",
     "text": [
      "正在抓取玩命關頭電影評論第 35  頁"
     ]
    },
    {
     "data": {
      "text/html": [
       "<div>\n",
       "<style>\n",
       "    .dataframe thead tr:only-child th {\n",
       "        text-align: right;\n",
       "    }\n",
       "\n",
       "    .dataframe thead th {\n",
       "        text-align: left;\n",
       "    }\n",
       "\n",
       "    .dataframe tbody tr th {\n",
       "        vertical-align: top;\n",
       "    }\n",
       "</style>\n",
       "<table border=\"1\" class=\"dataframe\">\n",
       "  <thead>\n",
       "    <tr style=\"text-align: right;\">\n",
       "      <th></th>\n",
       "      <th>comments</th>\n",
       "      <th>movie</th>\n",
       "      <th>star</th>\n",
       "    </tr>\n",
       "  </thead>\n",
       "  <tbody>\n",
       "  </tbody>\n",
       "</table>\n",
       "</div>"
      ],
      "text/plain": [
       "Empty DataFrame\n",
       "Columns: [comments, movie, star]\n",
       "Index: []"
      ]
     },
     "execution_count": 9,
     "metadata": {},
     "output_type": "execute_result"
    }
   ],
   "source": [
    "import sys\n",
    "import requests\n",
    "from bs4 import BeautifulSoup\n",
    "import pandas as pd\n",
    "\n",
    "response = requests.get(\"https://tw.movies.yahoo.com/movieinfo_review.html/id=6664\")\n",
    "soup = BeautifulSoup(response.text, \"html.parser\")\n",
    "\n",
    "page = int(soup.find(\"div\", {\"class\":\"page_numbox\"}).find_all(\"a\")[-2].text)\n",
    "\n",
    "comment_all = []\n",
    "star_all = []\n",
    "\n",
    "comment_df = pd.DataFrame(columns = [\"movie\", \"comment\", \"star\"])\n",
    "\n",
    "for i in range(1, page):\n",
    "    sys.stdout.write(\"\\r正在抓取玩命關頭電影評論第 \" + str(i) + \"  頁\")\n",
    "    response = requests.get(\"https://tw.movies.yahoo.com/movieinfo_review.html/id=6664?sort=create_ts&order=desc&page=\" \n",
    "                            + str(i) )\n",
    "    soup = BeautifulSoup(response.text, \"html.parser\")\n",
    "\n",
    "    # 評論文字存在 span 標籤裡，把每個人的評論先存成 list，再把這個 list 放進 comment_all 裡面\n",
    "    comment = [x.find(\"span\").text for x in soup.find_all(\"div\", {\"class\":\"usercom_inner _c\"})]\n",
    "    comment_all.extend(comment)\n",
    "\n",
    "    # 要抓取評論星等，首先定位出每個評論所在的位置，觀察後發現在 div 標籤，屬性 class=usercom_inner _c，評論星等就在這個 div 裡的 inputs 標籤\n",
    "    star = [comment.find(\"input\", {\"name\":\"score\"})['value'] for comment in soup.find_all(\"div\", {\"class\":\"usercom_inner _c\"})]\n",
    "    star_all.extend(star)\n",
    "    \n",
    "# 電影名稱的則是在 div 標籤，屬性 class=inform_title\n",
    "movie_name = soup.find_all(\"div\", {\"class\":\"inform_title\"})\n",
    "\n",
    "# 建立 DataFrame\n",
    "comment_df = pd.DataFrame({\"comments\":comment_all,\n",
    "                           \"movie\":movie_name,\n",
    "                          \"star\":star_all})\n",
    "\n",
    "# 看前五筆資料\n",
    "comment_df.head()"
   ]
  },
  {
   "cell_type": "code",
   "execution_count": 10,
   "metadata": {},
   "outputs": [
    {
     "ename": "FileNotFoundError",
     "evalue": "File b'data/movies_box_office.csv' does not exist",
     "output_type": "error",
     "traceback": [
      "\u001b[1;31m---------------------------------------------------------------------------\u001b[0m",
      "\u001b[1;31mFileNotFoundError\u001b[0m                         Traceback (most recent call last)",
      "\u001b[1;32m<ipython-input-10-58dfbca1062c>\u001b[0m in \u001b[0;36m<module>\u001b[1;34m()\u001b[0m\n\u001b[0;32m      1\u001b[0m \u001b[1;32mimport\u001b[0m \u001b[0mpandas\u001b[0m \u001b[1;32mas\u001b[0m \u001b[0mpd\u001b[0m\u001b[1;33m\u001b[0m\u001b[0m\n\u001b[0;32m      2\u001b[0m \u001b[1;33m\u001b[0m\u001b[0m\n\u001b[1;32m----> 3\u001b[1;33m \u001b[0mmovie_box\u001b[0m \u001b[1;33m=\u001b[0m \u001b[0mpd\u001b[0m\u001b[1;33m.\u001b[0m\u001b[0mread_csv\u001b[0m\u001b[1;33m(\u001b[0m\u001b[1;34m\"data/movies_box_office.csv\"\u001b[0m\u001b[1;33m)\u001b[0m\u001b[1;33m\u001b[0m\u001b[0m\n\u001b[0m\u001b[0;32m      4\u001b[0m \u001b[0mmovie_box\u001b[0m\u001b[1;33m.\u001b[0m\u001b[0mhead\u001b[0m\u001b[1;33m(\u001b[0m\u001b[1;33m)\u001b[0m\u001b[1;33m\u001b[0m\u001b[0m\n",
      "\u001b[1;32mC:\\Users\\Timan\\Anaconda3\\lib\\site-packages\\pandas\\io\\parsers.py\u001b[0m in \u001b[0;36mparser_f\u001b[1;34m(filepath_or_buffer, sep, delimiter, header, names, index_col, usecols, squeeze, prefix, mangle_dupe_cols, dtype, engine, converters, true_values, false_values, skipinitialspace, skiprows, nrows, na_values, keep_default_na, na_filter, verbose, skip_blank_lines, parse_dates, infer_datetime_format, keep_date_col, date_parser, dayfirst, iterator, chunksize, compression, thousands, decimal, lineterminator, quotechar, quoting, escapechar, comment, encoding, dialect, tupleize_cols, error_bad_lines, warn_bad_lines, skipfooter, skip_footer, doublequote, delim_whitespace, as_recarray, compact_ints, use_unsigned, low_memory, buffer_lines, memory_map, float_precision)\u001b[0m\n\u001b[0;32m    653\u001b[0m                     skip_blank_lines=skip_blank_lines)\n\u001b[0;32m    654\u001b[0m \u001b[1;33m\u001b[0m\u001b[0m\n\u001b[1;32m--> 655\u001b[1;33m         \u001b[1;32mreturn\u001b[0m \u001b[0m_read\u001b[0m\u001b[1;33m(\u001b[0m\u001b[0mfilepath_or_buffer\u001b[0m\u001b[1;33m,\u001b[0m \u001b[0mkwds\u001b[0m\u001b[1;33m)\u001b[0m\u001b[1;33m\u001b[0m\u001b[0m\n\u001b[0m\u001b[0;32m    656\u001b[0m \u001b[1;33m\u001b[0m\u001b[0m\n\u001b[0;32m    657\u001b[0m     \u001b[0mparser_f\u001b[0m\u001b[1;33m.\u001b[0m\u001b[0m__name__\u001b[0m \u001b[1;33m=\u001b[0m \u001b[0mname\u001b[0m\u001b[1;33m\u001b[0m\u001b[0m\n",
      "\u001b[1;32mC:\\Users\\Timan\\Anaconda3\\lib\\site-packages\\pandas\\io\\parsers.py\u001b[0m in \u001b[0;36m_read\u001b[1;34m(filepath_or_buffer, kwds)\u001b[0m\n\u001b[0;32m    403\u001b[0m \u001b[1;33m\u001b[0m\u001b[0m\n\u001b[0;32m    404\u001b[0m     \u001b[1;31m# Create the parser.\u001b[0m\u001b[1;33m\u001b[0m\u001b[1;33m\u001b[0m\u001b[0m\n\u001b[1;32m--> 405\u001b[1;33m     \u001b[0mparser\u001b[0m \u001b[1;33m=\u001b[0m \u001b[0mTextFileReader\u001b[0m\u001b[1;33m(\u001b[0m\u001b[0mfilepath_or_buffer\u001b[0m\u001b[1;33m,\u001b[0m \u001b[1;33m**\u001b[0m\u001b[0mkwds\u001b[0m\u001b[1;33m)\u001b[0m\u001b[1;33m\u001b[0m\u001b[0m\n\u001b[0m\u001b[0;32m    406\u001b[0m \u001b[1;33m\u001b[0m\u001b[0m\n\u001b[0;32m    407\u001b[0m     \u001b[1;32mif\u001b[0m \u001b[0mchunksize\u001b[0m \u001b[1;32mor\u001b[0m \u001b[0miterator\u001b[0m\u001b[1;33m:\u001b[0m\u001b[1;33m\u001b[0m\u001b[0m\n",
      "\u001b[1;32mC:\\Users\\Timan\\Anaconda3\\lib\\site-packages\\pandas\\io\\parsers.py\u001b[0m in \u001b[0;36m__init__\u001b[1;34m(self, f, engine, **kwds)\u001b[0m\n\u001b[0;32m    760\u001b[0m             \u001b[0mself\u001b[0m\u001b[1;33m.\u001b[0m\u001b[0moptions\u001b[0m\u001b[1;33m[\u001b[0m\u001b[1;34m'has_index_names'\u001b[0m\u001b[1;33m]\u001b[0m \u001b[1;33m=\u001b[0m \u001b[0mkwds\u001b[0m\u001b[1;33m[\u001b[0m\u001b[1;34m'has_index_names'\u001b[0m\u001b[1;33m]\u001b[0m\u001b[1;33m\u001b[0m\u001b[0m\n\u001b[0;32m    761\u001b[0m \u001b[1;33m\u001b[0m\u001b[0m\n\u001b[1;32m--> 762\u001b[1;33m         \u001b[0mself\u001b[0m\u001b[1;33m.\u001b[0m\u001b[0m_make_engine\u001b[0m\u001b[1;33m(\u001b[0m\u001b[0mself\u001b[0m\u001b[1;33m.\u001b[0m\u001b[0mengine\u001b[0m\u001b[1;33m)\u001b[0m\u001b[1;33m\u001b[0m\u001b[0m\n\u001b[0m\u001b[0;32m    763\u001b[0m \u001b[1;33m\u001b[0m\u001b[0m\n\u001b[0;32m    764\u001b[0m     \u001b[1;32mdef\u001b[0m \u001b[0mclose\u001b[0m\u001b[1;33m(\u001b[0m\u001b[0mself\u001b[0m\u001b[1;33m)\u001b[0m\u001b[1;33m:\u001b[0m\u001b[1;33m\u001b[0m\u001b[0m\n",
      "\u001b[1;32mC:\\Users\\Timan\\Anaconda3\\lib\\site-packages\\pandas\\io\\parsers.py\u001b[0m in \u001b[0;36m_make_engine\u001b[1;34m(self, engine)\u001b[0m\n\u001b[0;32m    964\u001b[0m     \u001b[1;32mdef\u001b[0m \u001b[0m_make_engine\u001b[0m\u001b[1;33m(\u001b[0m\u001b[0mself\u001b[0m\u001b[1;33m,\u001b[0m \u001b[0mengine\u001b[0m\u001b[1;33m=\u001b[0m\u001b[1;34m'c'\u001b[0m\u001b[1;33m)\u001b[0m\u001b[1;33m:\u001b[0m\u001b[1;33m\u001b[0m\u001b[0m\n\u001b[0;32m    965\u001b[0m         \u001b[1;32mif\u001b[0m \u001b[0mengine\u001b[0m \u001b[1;33m==\u001b[0m \u001b[1;34m'c'\u001b[0m\u001b[1;33m:\u001b[0m\u001b[1;33m\u001b[0m\u001b[0m\n\u001b[1;32m--> 966\u001b[1;33m             \u001b[0mself\u001b[0m\u001b[1;33m.\u001b[0m\u001b[0m_engine\u001b[0m \u001b[1;33m=\u001b[0m \u001b[0mCParserWrapper\u001b[0m\u001b[1;33m(\u001b[0m\u001b[0mself\u001b[0m\u001b[1;33m.\u001b[0m\u001b[0mf\u001b[0m\u001b[1;33m,\u001b[0m \u001b[1;33m**\u001b[0m\u001b[0mself\u001b[0m\u001b[1;33m.\u001b[0m\u001b[0moptions\u001b[0m\u001b[1;33m)\u001b[0m\u001b[1;33m\u001b[0m\u001b[0m\n\u001b[0m\u001b[0;32m    967\u001b[0m         \u001b[1;32melse\u001b[0m\u001b[1;33m:\u001b[0m\u001b[1;33m\u001b[0m\u001b[0m\n\u001b[0;32m    968\u001b[0m             \u001b[1;32mif\u001b[0m \u001b[0mengine\u001b[0m \u001b[1;33m==\u001b[0m \u001b[1;34m'python'\u001b[0m\u001b[1;33m:\u001b[0m\u001b[1;33m\u001b[0m\u001b[0m\n",
      "\u001b[1;32mC:\\Users\\Timan\\Anaconda3\\lib\\site-packages\\pandas\\io\\parsers.py\u001b[0m in \u001b[0;36m__init__\u001b[1;34m(self, src, **kwds)\u001b[0m\n\u001b[0;32m   1580\u001b[0m         \u001b[0mkwds\u001b[0m\u001b[1;33m[\u001b[0m\u001b[1;34m'allow_leading_cols'\u001b[0m\u001b[1;33m]\u001b[0m \u001b[1;33m=\u001b[0m \u001b[0mself\u001b[0m\u001b[1;33m.\u001b[0m\u001b[0mindex_col\u001b[0m \u001b[1;32mis\u001b[0m \u001b[1;32mnot\u001b[0m \u001b[1;32mFalse\u001b[0m\u001b[1;33m\u001b[0m\u001b[0m\n\u001b[0;32m   1581\u001b[0m \u001b[1;33m\u001b[0m\u001b[0m\n\u001b[1;32m-> 1582\u001b[1;33m         \u001b[0mself\u001b[0m\u001b[1;33m.\u001b[0m\u001b[0m_reader\u001b[0m \u001b[1;33m=\u001b[0m \u001b[0mparsers\u001b[0m\u001b[1;33m.\u001b[0m\u001b[0mTextReader\u001b[0m\u001b[1;33m(\u001b[0m\u001b[0msrc\u001b[0m\u001b[1;33m,\u001b[0m \u001b[1;33m**\u001b[0m\u001b[0mkwds\u001b[0m\u001b[1;33m)\u001b[0m\u001b[1;33m\u001b[0m\u001b[0m\n\u001b[0m\u001b[0;32m   1583\u001b[0m \u001b[1;33m\u001b[0m\u001b[0m\n\u001b[0;32m   1584\u001b[0m         \u001b[1;31m# XXX\u001b[0m\u001b[1;33m\u001b[0m\u001b[1;33m\u001b[0m\u001b[0m\n",
      "\u001b[1;32mpandas\\_libs\\parsers.pyx\u001b[0m in \u001b[0;36mpandas._libs.parsers.TextReader.__cinit__ (pandas\\_libs\\parsers.c:4209)\u001b[1;34m()\u001b[0m\n",
      "\u001b[1;32mpandas\\_libs\\parsers.pyx\u001b[0m in \u001b[0;36mpandas._libs.parsers.TextReader._setup_parser_source (pandas\\_libs\\parsers.c:8873)\u001b[1;34m()\u001b[0m\n",
      "\u001b[1;31mFileNotFoundError\u001b[0m: File b'data/movies_box_office.csv' does not exist"
     ]
    }
   ],
   "source": [
    "import pandas as pd\n",
    "\n",
    "movie_box = pd.read_csv(\"data/movies_box_office.csv\")\n",
    "movie_box.head()"
   ]
  }
 ],
 "metadata": {
  "kernelspec": {
   "display_name": "Python 3",
   "language": "python",
   "name": "python3"
  },
  "language_info": {
   "codemirror_mode": {
    "name": "ipython",
    "version": 3
   },
   "file_extension": ".py",
   "mimetype": "text/x-python",
   "name": "python",
   "nbconvert_exporter": "python",
   "pygments_lexer": "ipython3",
   "version": "3.7.1"
  }
 },
 "nbformat": 4,
 "nbformat_minor": 2
}
